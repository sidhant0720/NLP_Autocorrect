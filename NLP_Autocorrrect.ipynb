{
  "nbformat": 4,
  "nbformat_minor": 0,
  "metadata": {
    "colab": {
      "name": "NLP_Autocorrrect.ipynb",
      "provenance": [],
      "mount_file_id": "11TqhtsXFAoMtNZRucSym4h5mgHvP4PlR",
      "authorship_tag": "ABX9TyOxLjYq8RBVYZRM5qaEqHm5",
      "include_colab_link": true
    },
    "kernelspec": {
      "name": "python3",
      "display_name": "Python 3"
    }
  },
  "cells": [
    {
      "cell_type": "markdown",
      "metadata": {
        "id": "view-in-github",
        "colab_type": "text"
      },
      "source": [
        "<a href=\"https://colab.research.google.com/github/sidhant0720/NLP_Autocorrect/blob/master/NLP_Autocorrrect.ipynb\" target=\"_parent\"><img src=\"https://colab.research.google.com/assets/colab-badge.svg\" alt=\"Open In Colab\"/></a>"
      ]
    },
    {
      "cell_type": "code",
      "metadata": {
        "id": "kju6KLJgymmg",
        "colab_type": "code",
        "colab": {}
      },
      "source": [
        "import re\n",
        "from collections import Counter\n",
        "import numpy as np\n",
        "import pandas as pd "
      ],
      "execution_count": 1,
      "outputs": []
    },
    {
      "cell_type": "code",
      "metadata": {
        "id": "mWe8UksMzkmY",
        "colab_type": "code",
        "colab": {}
      },
      "source": [
        "def process_data(file_name):\n",
        "    words = []\n",
        "    fh = open(file_name)\n",
        "    for line in fh:\n",
        "        line_lower = line.lower()\n",
        "        w = re.findall(r'\\w+', line_lower)\n",
        "        words+=w\n",
        "    return words"
      ],
      "execution_count": 3,
      "outputs": []
    },
    {
      "cell_type": "code",
      "metadata": {
        "id": "IhcLiaf3zrtO",
        "colab_type": "code",
        "colab": {
          "base_uri": "https://localhost:8080/",
          "height": 67
        },
        "outputId": "b92c366a-659b-429e-c511-cf89cfe54bb3"
      },
      "source": [
        "word_l = process_data('/content/drive/My Drive/Colab Notebooks/shakespeare.txt')\n",
        "vocab = set(word_l) \n",
        "print(f\"The first ten words in the text are: \\n{word_l[0:10]}\")\n",
        "print(f\"There are {len(vocab)} unique words in the vocabulary.\")"
      ],
      "execution_count": 4,
      "outputs": [
        {
          "output_type": "stream",
          "text": [
            "The first ten words in the text are: \n",
            "['o', 'for', 'a', 'muse', 'of', 'fire', 'that', 'would', 'ascend', 'the']\n",
            "There are 6116 unique words in the vocabulary.\n"
          ],
          "name": "stdout"
        }
      ]
    },
    {
      "cell_type": "code",
      "metadata": {
        "id": "727vk_Z50DmP",
        "colab_type": "code",
        "colab": {}
      },
      "source": [
        "def get_count(word_l):  \n",
        "    word_count_dict = {}\n",
        "    word_count_dict=Counter(word_l)\n",
        "    return word_count_dict"
      ],
      "execution_count": 5,
      "outputs": []
    },
    {
      "cell_type": "code",
      "metadata": {
        "id": "4GVNRpzG0qKc",
        "colab_type": "code",
        "colab": {
          "base_uri": "https://localhost:8080/",
          "height": 50
        },
        "outputId": "47360813-ffba-43d9-fbb8-95faf1c2d137"
      },
      "source": [
        "word_count_dict = get_count(word_l)\n",
        "print(f\"There are {len(word_count_dict)} key values pairs\")\n",
        "print(f\"The count for the word 'thee' is {word_count_dict.get('thee',0)}\")"
      ],
      "execution_count": 6,
      "outputs": [
        {
          "output_type": "stream",
          "text": [
            "There are 6116 key values pairs\n",
            "The count for the word 'thee' is 240\n"
          ],
          "name": "stdout"
        }
      ]
    },
    {
      "cell_type": "code",
      "metadata": {
        "id": "WbpQFzZy0wB3",
        "colab_type": "code",
        "colab": {}
      },
      "source": [
        "def get_probs(word_count_dict):\n",
        "    probs = {}\n",
        "    M = sum([freq for freq in word_count_dict.values()]) \n",
        "    for word,count in word_count_dict.items():\n",
        "        probs[word] = count/M\n",
        "    return probs"
      ],
      "execution_count": 7,
      "outputs": []
    },
    {
      "cell_type": "code",
      "metadata": {
        "id": "oIngVFra1Jlc",
        "colab_type": "code",
        "colab": {
          "base_uri": "https://localhost:8080/",
          "height": 50
        },
        "outputId": "919e8b1b-adb5-40a4-f822-5b6e94487174"
      },
      "source": [
        "probs = get_probs(word_count_dict)\n",
        "print(f\"Length of probs is {len(probs)}\")\n",
        "print(f\"P('thee') is {probs['thee']:.4f}\")"
      ],
      "execution_count": 8,
      "outputs": [
        {
          "output_type": "stream",
          "text": [
            "Length of probs is 6116\n",
            "P('thee') is 0.0045\n"
          ],
          "name": "stdout"
        }
      ]
    },
    {
      "cell_type": "code",
      "metadata": {
        "id": "mRS5GYnC1MZT",
        "colab_type": "code",
        "colab": {}
      },
      "source": [
        "def delete_letter(word, verbose=False):   \n",
        "    delete_l = []\n",
        "    split_l = []\n",
        "    split_l = [(word[0:i],word[i:]) for i in range(len(word)+1)]\n",
        "    delete_l = [L+R[1:] for L,R in split_l if R]\n",
        "    if verbose: print(f\"input word {word}, \\nsplit_l = {split_l}, \\ndelete_l = {delete_l}\")\n",
        "    return delete_l"
      ],
      "execution_count": 9,
      "outputs": []
    },
    {
      "cell_type": "code",
      "metadata": {
        "id": "J6XVm7c31Xvp",
        "colab_type": "code",
        "colab": {
          "base_uri": "https://localhost:8080/",
          "height": 67
        },
        "outputId": "9050bca2-3ff2-4047-8694-24c63ed7d40b"
      },
      "source": [
        "delete_word_l = delete_letter(word=\"cat\",\n",
        "                        verbose=True)"
      ],
      "execution_count": 10,
      "outputs": [
        {
          "output_type": "stream",
          "text": [
            "input word cat, \n",
            "split_l = [('', 'cat'), ('c', 'at'), ('ca', 't'), ('cat', '')], \n",
            "delete_l = ['at', 'ct', 'ca']\n"
          ],
          "name": "stdout"
        }
      ]
    },
    {
      "cell_type": "code",
      "metadata": {
        "id": "8gYJ1_201cOS",
        "colab_type": "code",
        "colab": {}
      },
      "source": [
        "def switch_letter(word, verbose=False):\n",
        "    switch_l = []\n",
        "    split_l = []\n",
        "\n",
        "    split_l = [(word[0:i],word[i:]) for i in range(len(word)+1)]\n",
        "    switch_l = [ (L[:-1] + R[0] + L[-1] + R[1:]) for L,R in split_l if R and L]\n",
        "  \n",
        "    if verbose: print(f\"Input word = {word} \\nsplit_l = {split_l} \\nswitch_l = {switch_l}\") \n",
        "    \n",
        "    return switch_l"
      ],
      "execution_count": 11,
      "outputs": []
    },
    {
      "cell_type": "code",
      "metadata": {
        "id": "DIkXo6kb2KCx",
        "colab_type": "code",
        "colab": {
          "base_uri": "https://localhost:8080/",
          "height": 67
        },
        "outputId": "636f4141-f2c4-45cc-ed68-f1284974dcc1"
      },
      "source": [
        "switch_word_l = switch_letter(word=\"eta\",\n",
        "                         verbose=True)"
      ],
      "execution_count": 12,
      "outputs": [
        {
          "output_type": "stream",
          "text": [
            "Input word = eta \n",
            "split_l = [('', 'eta'), ('e', 'ta'), ('et', 'a'), ('eta', '')] \n",
            "switch_l = ['tea', 'eat']\n"
          ],
          "name": "stdout"
        }
      ]
    },
    {
      "cell_type": "code",
      "metadata": {
        "id": "LZjkIipl2Lil",
        "colab_type": "code",
        "colab": {}
      },
      "source": [
        "def replace_letter(word, verbose=False):   \n",
        "    letters = 'abcdefghijklmnopqrstuvwxyz'\n",
        "    replace_l = []\n",
        "    split_l = []\n",
        "\n",
        "    split_l = [(word[0:i],word[i:]) for i in range(len(word)+1)]\n",
        "    replace_l = [(L[:-1]+letters[i]+R) for L,R in split_l if L for i in range(len(letters))]\n",
        "    replace_set= set(replace_l)\n",
        "    if(word != ''):\n",
        "        replace_set.remove(word)\n",
        "\n",
        "    replace_l = sorted(list(replace_set))\n",
        "    \n",
        "    if verbose: print(f\"Input word = {word} \\nsplit_l = {split_l} \\nreplace_l {replace_l}\")   \n",
        "    \n",
        "    return replace_l"
      ],
      "execution_count": 13,
      "outputs": []
    },
    {
      "cell_type": "code",
      "metadata": {
        "id": "d6At9FLH2UhW",
        "colab_type": "code",
        "colab": {
          "base_uri": "https://localhost:8080/",
          "height": 87
        },
        "outputId": "0c5cdd75-870a-43ec-a301-bec8306f6a64"
      },
      "source": [
        "replace_l = replace_letter(word='can',\n",
        "                              verbose=True)"
      ],
      "execution_count": 14,
      "outputs": [
        {
          "output_type": "stream",
          "text": [
            "Input word = can \n",
            "split_l = [('', 'can'), ('c', 'an'), ('ca', 'n'), ('can', '')] \n",
            "replace_l ['aan', 'ban', 'caa', 'cab', 'cac', 'cad', 'cae', 'caf', 'cag', 'cah', 'cai', 'caj', 'cak', 'cal', 'cam', 'cao', 'cap', 'caq', 'car', 'cas', 'cat', 'cau', 'cav', 'caw', 'cax', 'cay', 'caz', 'cbn', 'ccn', 'cdn', 'cen', 'cfn', 'cgn', 'chn', 'cin', 'cjn', 'ckn', 'cln', 'cmn', 'cnn', 'con', 'cpn', 'cqn', 'crn', 'csn', 'ctn', 'cun', 'cvn', 'cwn', 'cxn', 'cyn', 'czn', 'dan', 'ean', 'fan', 'gan', 'han', 'ian', 'jan', 'kan', 'lan', 'man', 'nan', 'oan', 'pan', 'qan', 'ran', 'san', 'tan', 'uan', 'van', 'wan', 'xan', 'yan', 'zan']\n"
          ],
          "name": "stdout"
        }
      ]
    },
    {
      "cell_type": "code",
      "metadata": {
        "id": "mjLvYvyu2afm",
        "colab_type": "code",
        "colab": {}
      },
      "source": [
        "def insert_letter(word, verbose=False):\n",
        "\n",
        "    letters = 'abcdefghijklmnopqrstuvwxyz'\n",
        "    insert_l = []\n",
        "    split_l = []\n",
        "    \n",
        "    split_l = [(word[0:i],word[i:]) for i in range(len(word)+1)]\n",
        "    insert_l = [(L+letters[i]+R) for L,R in split_l for i in range(len(letters))]\n",
        "\n",
        "    if verbose: print(f\"Input word {word} \\nsplit_l = {split_l} \\ninsert_l = {insert_l}\")\n",
        "    \n",
        "    return insert_l"
      ],
      "execution_count": 15,
      "outputs": []
    },
    {
      "cell_type": "code",
      "metadata": {
        "id": "LvdvxhVp2nBv",
        "colab_type": "code",
        "colab": {
          "base_uri": "https://localhost:8080/",
          "height": 104
        },
        "outputId": "07d30ec7-b487-4f3d-f2cd-c6a8cf307369"
      },
      "source": [
        "insert_l = insert_letter('at', True)\n",
        "print(f\"Number of strings output by insert_letter('at') is {len(insert_l)}\")"
      ],
      "execution_count": 16,
      "outputs": [
        {
          "output_type": "stream",
          "text": [
            "Input word at \n",
            "split_l = [('', 'at'), ('a', 't'), ('at', '')] \n",
            "insert_l = ['aat', 'bat', 'cat', 'dat', 'eat', 'fat', 'gat', 'hat', 'iat', 'jat', 'kat', 'lat', 'mat', 'nat', 'oat', 'pat', 'qat', 'rat', 'sat', 'tat', 'uat', 'vat', 'wat', 'xat', 'yat', 'zat', 'aat', 'abt', 'act', 'adt', 'aet', 'aft', 'agt', 'aht', 'ait', 'ajt', 'akt', 'alt', 'amt', 'ant', 'aot', 'apt', 'aqt', 'art', 'ast', 'att', 'aut', 'avt', 'awt', 'axt', 'ayt', 'azt', 'ata', 'atb', 'atc', 'atd', 'ate', 'atf', 'atg', 'ath', 'ati', 'atj', 'atk', 'atl', 'atm', 'atn', 'ato', 'atp', 'atq', 'atr', 'ats', 'att', 'atu', 'atv', 'atw', 'atx', 'aty', 'atz']\n",
            "Number of strings output by insert_letter('at') is 78\n"
          ],
          "name": "stdout"
        }
      ]
    },
    {
      "cell_type": "code",
      "metadata": {
        "id": "d9ugl6aY2omw",
        "colab_type": "code",
        "colab": {}
      },
      "source": [
        "def edit_one_letter(word, allow_switches = True):\n",
        "    \n",
        "    edit_one_set = set()\n",
        "\n",
        "    l = delete_letter(word) + switch_letter(word) + replace_letter(word) + insert_letter(word)\n",
        "    edit_one_set = set(l)\n",
        "\n",
        "    return edit_one_set"
      ],
      "execution_count": 17,
      "outputs": []
    },
    {
      "cell_type": "code",
      "metadata": {
        "id": "Myvwfgtk25DE",
        "colab_type": "code",
        "colab": {}
      },
      "source": [
        "def edit_two_letters(word, allow_switches = True):\n",
        "    edit_two_set = set()\n",
        "\n",
        "    first_edit_l = list(edit_one_letter(word))\n",
        "    for w in first_edit_l:\n",
        "        edit_two_set = edit_two_set.union(edit_one_letter(w))\n",
        "\n",
        "    return edit_two_set"
      ],
      "execution_count": 18,
      "outputs": []
    },
    {
      "cell_type": "code",
      "metadata": {
        "id": "1xxXEV7i3Ii3",
        "colab_type": "code",
        "colab": {}
      },
      "source": [
        "def get_corrections(word, probs, vocab, n=2, verbose = False):\n",
        "    '''\n",
        "    Input: \n",
        "        word: a user entered string to check for suggestions\n",
        "        probs: a dictionary that maps each word to its probability in the corpus\n",
        "        vocab: a set containing all the vocabulary\n",
        "        n: number of possible word corrections you want returned in the dictionary\n",
        "    Output: \n",
        "        n_best: a list of tuples with the most probable n corrected words and their probabilities.\n",
        "    '''\n",
        "    suggestions = []\n",
        "    n_best = []\n",
        "\n",
        "    s = list(vocab.intersection(set([word]))) or list(vocab.intersection(edit_one_letter(word))) or list(vocab.intersection(edit_two_letters(word)))\n",
        "    suggestions = s\n",
        "    best_words = {w:probs[w] for w in suggestions}\n",
        "    c = Counter(best_words)\n",
        "\n",
        "    \n",
        "    n_best = c.most_common(n)\n",
        "    \n",
        "    if verbose: print(\"entered word = \", word, \"\\nsuggestions = \", suggestions)\n",
        "\n",
        "    return n_best"
      ],
      "execution_count": 19,
      "outputs": []
    },
    {
      "cell_type": "markdown",
      "metadata": {
        "id": "A2NUWpvO4gOJ",
        "colab_type": "text"
      },
      "source": [
        "Guess Incorrect Word"
      ]
    },
    {
      "cell_type": "code",
      "metadata": {
        "id": "DVPExLan35Lc",
        "colab_type": "code",
        "colab": {
          "base_uri": "https://localhost:8080/",
          "height": 84
        },
        "outputId": "c491fbb7-bde8-417c-ca1d-c0738e9d6d86"
      },
      "source": [
        "my_word = 'mountane' \n",
        "tmp_corrections = get_corrections(my_word, probs, vocab, 2, verbose=True)\n",
        "for i, word_prob in enumerate(tmp_corrections):\n",
        "    print(f\"word {i}: {word_prob[0]}, probability {word_prob[1]:.6f}\")\n",
        "\n",
        "print(f\"data type of corrections {type(tmp_corrections)}\")"
      ],
      "execution_count": 23,
      "outputs": [
        {
          "output_type": "stream",
          "text": [
            "entered word =  mountane \n",
            "suggestions =  ['mountain']\n",
            "word 0: mountain, probability 0.000037\n",
            "data type of corrections <class 'list'>\n"
          ],
          "name": "stdout"
        }
      ]
    },
    {
      "cell_type": "code",
      "metadata": {
        "id": "WlwzdSEn3_Ip",
        "colab_type": "code",
        "colab": {}
      },
      "source": [
        ""
      ],
      "execution_count": null,
      "outputs": []
    }
  ]
}